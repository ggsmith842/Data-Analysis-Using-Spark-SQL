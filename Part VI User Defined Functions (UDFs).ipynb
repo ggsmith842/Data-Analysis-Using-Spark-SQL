{
 "cells": [
  {
   "cell_type": "markdown",
   "metadata": {
    "application/vnd.databricks.v1+cell": {
     "cellMetadata": {},
     "inputWidgets": {},
     "nuid": "09a87c92-a56d-4663-b3b7-0b09927cf32c",
     "showTitle": false,
     "title": ""
    }
   },
   "source": [
    "# Part VI: User Defined Functions\n",
    "\n",
    "This notebook looks at our client data *(please note this is not real data)* and shows how complex logic can be created in Python, and then applied to a dataframe as a udf.\n",
    "\n",
    "In this scenario we are looking at data quality. Our sales team has noticed that when client emails have uncommon top-level domains, they are unable to concact them quickly. Emails ending in .com or .org have faster response times based on the research conducted by the sales team analysts. \n",
    "\n",
    "To help with this, we will flag any rows of data that do not end with .com or .org as invalid.\n",
    "\n",
    "#### Load Data\n",
    "\n",
    "We already have our mock client data in DBFS from earlier. Now we just need to load it into our notebook."
   ]
  },
  {
   "cell_type": "code",
   "execution_count": 0,
   "metadata": {
    "application/vnd.databricks.v1+cell": {
     "cellMetadata": {
      "byteLimit": 2048000,
      "rowLimit": 10000
     },
     "inputWidgets": {},
     "nuid": "3c6ca2e5-6eeb-404c-a586-d92cdd9a3fd6",
     "showTitle": false,
     "title": ""
    }
   },
   "outputs": [
    {
     "output_type": "stream",
     "name": "stdout",
     "output_type": "stream",
     "text": [
      "+---+------------+---------+------------------------+---------------+--------------+---------------+---------------+---------------+\n|id |first_name  |last_name|email                   |account_balance|average_return|portfolio_theme|trade_frequency|last_contact_dt|\n+---+------------+---------+------------------------+---------------+--------------+---------------+---------------+---------------+\n|1  |Bria        |Ruse     |bruse0@lulu.com         |$558243.81     |-4.53         |core           |Weekly         |2022-11-25     |\n|2  |Merry       |Effemy   |meffemy1@paypal.com     |$3739.01       |8.09          |smart-beta     |Seldom         |2022-07-20     |\n|3  |Chrisse     |Iannello |ciannello2@tinypic.com  |$347550.67     |-3.58         |smart-beta     |Often          |2022-12-16     |\n|4  |Lorettalorna|Bonnette |lbonnette3@dropbox.com  |$250191.19     |4.37          |core           |Yearly         |2022-05-12     |\n|5  |Maxwell     |Spellicy |mspellicy4@freewebs.com |$705098.95     |-0.22         |sustainable    |Often          |2022-07-14     |\n|6  |Conn        |Bauduin  |cbauduin5@ustream.tv    |$414601.73     |4.95          |smart-beta     |Yearly         |2023-01-15     |\n|7  |Rurik       |Wolverson|rwolverson6@cnbc.com    |$183900.44     |1.53          |sustainable    |Seldom         |2023-03-31     |\n|8  |Pavia       |Gueste   |pgueste7@dagondesign.com|$824124.75     |0.14          |core           |Daily          |2023-02-07     |\n|9  |Prissie     |Drescher |pdrescher8@forbes.com   |$347858.05     |3.96          |core           |Yearly         |2022-12-22     |\n|10 |Batholomew  |Housbie  |bhousbie9@posterous.com |$26098.72      |-6.61         |core           |Monthly        |2022-02-11     |\n+---+------------+---------+------------------------+---------------+--------------+---------------+---------------+---------------+\nonly showing top 10 rows\n\n"
     ]
    }
   ],
   "source": [
    "# File location and type\n",
    "file_location = \"/FileStore/tables/MOCK_CLIENT_DATA-1.csv\"\n",
    "file_type = \"csv\"\n",
    "\n",
    "# CSV options\n",
    "infer_schema = \"true\"\n",
    "first_row_is_header = \"true\"\n",
    "delimiter = \",\"\n",
    "\n",
    "# Create Dataframe.\n",
    "df = spark.read.format(file_type) \\\n",
    "  .option(\"inferSchema\", infer_schema) \\\n",
    "  .option(\"header\", first_row_is_header) \\\n",
    "  .option(\"sep\", delimiter) \\\n",
    "  .load(file_location)\n",
    "\n",
    "df.show(10, False)"
   ]
  },
  {
   "cell_type": "markdown",
   "metadata": {
    "application/vnd.databricks.v1+cell": {
     "cellMetadata": {},
     "inputWidgets": {},
     "nuid": "2b43d041-dc6b-4edd-b464-739fe5832b29",
     "showTitle": false,
     "title": ""
    }
   },
   "source": [
    "Let's create a user-defined function (UDF) that will look at the email column and only consider it a valid email if it ends in \".com\" or \".org\". \n",
    "\n",
    "Notice that this python function is tagged with '@udf'"
   ]
  },
  {
   "cell_type": "code",
   "execution_count": 0,
   "metadata": {
    "application/vnd.databricks.v1+cell": {
     "cellMetadata": {
      "byteLimit": 2048000,
      "rowLimit": 10000
     },
     "inputWidgets": {},
     "nuid": "f3e9ae7c-4eb0-4bfc-b74b-f673abb7e287",
     "showTitle": false,
     "title": ""
    }
   },
   "outputs": [],
   "source": [
    "#create a udf that slices off the text after the 'dot' character\n",
    "@udf\n",
    "def checkEmail(email):\n",
    "    validDomains = [\"com\",\"org\"]\n",
    "    arr = email.split(\".\")\n",
    "    arrEnd = arr[-1]\n",
    "    if arrEnd not in validDomains:\n",
    "        return \"Invalid domain\"\n",
    "    else:\n",
    "        return \"Valid domain\"\n"
   ]
  },
  {
   "cell_type": "code",
   "execution_count": 0,
   "metadata": {
    "application/vnd.databricks.v1+cell": {
     "cellMetadata": {
      "byteLimit": 2048000,
      "rowLimit": 10000
     },
     "inputWidgets": {},
     "nuid": "5eea6f32-eb0d-4a78-b47a-296c2515c426",
     "showTitle": false,
     "title": ""
    }
   },
   "outputs": [
    {
     "output_type": "stream",
     "name": "stdout",
     "output_type": "stream",
     "text": [
      "+---+------------+---------+------------------------+---------------+--------------+---------------+---------------+---------------+--------------+\n|id |first_name  |last_name|email                   |account_balance|average_return|portfolio_theme|trade_frequency|last_contact_dt|email_check   |\n+---+------------+---------+------------------------+---------------+--------------+---------------+---------------+---------------+--------------+\n|1  |Bria        |Ruse     |bruse0@lulu.com         |$558243.81     |-4.53         |core           |Weekly         |2022-11-25     |Valid domain  |\n|2  |Merry       |Effemy   |meffemy1@paypal.com     |$3739.01       |8.09          |smart-beta     |Seldom         |2022-07-20     |Valid domain  |\n|3  |Chrisse     |Iannello |ciannello2@tinypic.com  |$347550.67     |-3.58         |smart-beta     |Often          |2022-12-16     |Valid domain  |\n|4  |Lorettalorna|Bonnette |lbonnette3@dropbox.com  |$250191.19     |4.37          |core           |Yearly         |2022-05-12     |Valid domain  |\n|5  |Maxwell     |Spellicy |mspellicy4@freewebs.com |$705098.95     |-0.22         |sustainable    |Often          |2022-07-14     |Valid domain  |\n|6  |Conn        |Bauduin  |cbauduin5@ustream.tv    |$414601.73     |4.95          |smart-beta     |Yearly         |2023-01-15     |Invalid domain|\n|7  |Rurik       |Wolverson|rwolverson6@cnbc.com    |$183900.44     |1.53          |sustainable    |Seldom         |2023-03-31     |Valid domain  |\n|8  |Pavia       |Gueste   |pgueste7@dagondesign.com|$824124.75     |0.14          |core           |Daily          |2023-02-07     |Valid domain  |\n|9  |Prissie     |Drescher |pdrescher8@forbes.com   |$347858.05     |3.96          |core           |Yearly         |2022-12-22     |Valid domain  |\n|10 |Batholomew  |Housbie  |bhousbie9@posterous.com |$26098.72      |-6.61         |core           |Monthly        |2022-02-11     |Valid domain  |\n+---+------------+---------+------------------------+---------------+--------------+---------------+---------------+---------------+--------------+\nonly showing top 10 rows\n\n"
     ]
    }
   ],
   "source": [
    "# create new column that applies our udf to each row of the email column\n",
    "df.withColumn(\"email_check\", checkEmail(\"email\")) \\\n",
    "    .show(10, truncate=False)"
   ]
  },
  {
   "cell_type": "markdown",
   "metadata": {
    "application/vnd.databricks.v1+cell": {
     "cellMetadata": {},
     "inputWidgets": {},
     "nuid": "4fce9f59-828e-4dcd-82a3-0f4d06e6e436",
     "showTitle": false,
     "title": ""
    }
   },
   "source": [
    "Great! We can see in the sample that our udf checked each email and found the .tv entry and flagged it as invalid.\n",
    "\n",
    "While this is a very simple sample and there are many scenarios where the logic implemented here would not hold up, you should now have a better understanding of how to create and apply udf's to your data. \n",
    "\n",
    "Thanks for reading!"
   ]
  }
 ],
 "metadata": {
  "application/vnd.databricks.v1+notebook": {
   "dashboards": [],
   "language": "python",
   "notebookMetadata": {
    "pythonIndentUnit": 4
   },
   "notebookName": "Part VI: User Defined Functions (UDFs)",
   "widgets": {}
  }
 },
 "nbformat": 4,
 "nbformat_minor": 0
}
